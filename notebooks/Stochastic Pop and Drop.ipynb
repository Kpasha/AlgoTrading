{
 "cells": [
  {
   "cell_type": "code",
   "execution_count": 1,
   "metadata": {
    "collapsed": true
   },
   "outputs": [],
   "source": [
    "import pandas as pd\n",
    "import numpy as np\n",
    "from time import time\n",
    "import matplotlib.pyplot as plt\n",
    "%matplotlib inline"
   ]
  },
  {
   "cell_type": "markdown",
   "metadata": {},
   "source": [
    "# Stochastic Pop and Drop Agent"
   ]
  },
  {
   "cell_type": "code",
   "execution_count": 2,
   "metadata": {
    "collapsed": true
   },
   "outputs": [],
   "source": [
    "class PopAndDrop_Agent:\n",
    "    def __init__(self, data):\n",
    "        self.data=data\n",
    "        self.stock=1\n",
    "        self.cash=0\n",
    "        self.price=self.data[\"Price\"][0]\n",
    "        self.prices=np.array(self.data[\"Price\"])\n",
    "        self.value=self.stock*self.price+self.cash\n",
    "        self.up=0.1\n",
    "        self.down=0.1\n",
    "        self.length=len(data)\n",
    "        self.moving_avg=self.MovingAverages(self.prices)\n",
    "        self.portfolio=[]\n",
    "\n",
    "    def reset(self):\n",
    "        \"\"\"\n",
    "        Reset agent\n",
    "        \"\"\"\n",
    "        self.cash=0\n",
    "        self.stock=1\n",
    "        self.portfolio=[]\n",
    "    \n",
    "    def getPortfolioVal(self):\n",
    "        \"\"\"\n",
    "        Returns current portfolio valuation\n",
    "        \"\"\"\n",
    "        return self.stock*self.price+self.cash\n",
    "    \n",
    "    def getStochasticOscillator(self, n_days):\n",
    "        self.data['Close'] = self.data['Price']\n",
    "        \n",
    "        rolling_high = pd.Series((data[\"High\"].rolling(n_days).max()),\n",
    "        name = 'Rolling High') \n",
    "        self.data = self.data.join(rolling_high)\n",
    "        rolling_low = pd.Series((data[\"Low\"].rolling(n_days).min()),\n",
    "        name = 'Rolling Low') \n",
    "        self.data = self.data.join(rolling_low)\n",
    "        \n",
    "        self.data[\"K\"] = 100*(self.data['Close'] - self.data['Rolling Low'])/(self.data['Rolling High'] - self.data['Rolling Low'])\n",
    "        self.data[\"D\"] = self.data[\"K\"].rolling(3).mean()\n",
    "        return self.data.head()\n",
    "    \n",
    "    def MovingAverages(self, data, n_days=50):\n",
    "        \"\"\"\n",
    "        Generate moving averages for a variable window size\n",
    "        \"\"\"\n",
    "        data = pd.Series(data)\n",
    "        avg = pd.Series((data.rolling(n_days).mean()),\n",
    "        name = '%d Moving Average' % (n_days))\n",
    "        return avg\n",
    "    \n",
    "    def Volatility(self, window_size=50):\n",
    "        \"\"\"\n",
    "        Generate Volatility score for a variable window size\n",
    "        \"\"\"\n",
    "        prices = np.array(self.prices)\n",
    "        volatilities = np.array(self.prices)\n",
    "        for i in range(0, self.length):\n",
    "            a = max(0,int(i)-window_size)\n",
    "            window = prices[a:i+1]\n",
    "            #print(prices[a:i])\n",
    "            volatilities[i] = np.sqrt(np.sum(np.square(window-window.mean())))\n",
    "        volatilities[0]=0\n",
    "        return volatilities\n",
    "    \n",
    "    def run(self, verbose=0):\n",
    "        \"\"\"\n",
    "        Run agent with constraints about percent above and below the moving average\n",
    "        \"\"\"\n",
    "        self.reset()\n",
    "        CCI = self.data[\"CCI\"]\n",
    "        prices = self.prices\n",
    "        for i in range(0, self.length):\n",
    "            # buy\n",
    "            self.portfolio.append(self.stock*self.price+self.cash)\n",
    "            if(self.cash>prices[i] and CCI[i]>100):\n",
    "                stocks_to_buy = int(self.cash/prices[i])\n",
    "                cash_required = prices[i]*int(self.cash/prices[i])\n",
    "                self.stock += stocks_to_buy\n",
    "                self.cash -= cash_required\n",
    "                if verbose:\n",
    "                    print(\"Day :%d, Buying %d stocks for %f\" % (i, stocks_to_buy, cash_required))\n",
    "                    #print(\"Stocks owned %d\" % (self.stock))\n",
    "                    #print(\"Cash owned %f\" % (self.cash))\n",
    "                    print(\"Portfolio valuation : %f\" % (self.stock*self.price+self.cash))\n",
    "                continue\n",
    "            \n",
    "            # sell\n",
    "            if(self.stock>0 and CCI[i]<100):\n",
    "                stocks_to_sell = int(self.stock)\n",
    "                cash_recieved = prices[i]*(self.stock)\n",
    "                self.cash+=prices[i]*(self.stock)\n",
    "                self.stock=0\n",
    "                if verbose:\n",
    "                    print(\"Day :%d, Selling %d stocks for %f\" % (i, stocks_to_sell, cash_recieved))\n",
    "                    #print(\"Stocks owned %d\" % (self.stock))\n",
    "                    #print(\"Cash owned %f\" % (self.cash))\n",
    "                    print(\"Portfolio valuation : %f\" % (self.stock*self.price+self.cash))\n",
    "                continue\n",
    "        return self.stock*self.price+self.cash"
   ]
  },
  {
   "cell_type": "code",
   "execution_count": 3,
   "metadata": {
    "collapsed": true
   },
   "outputs": [],
   "source": [
    "data = pd.read_csv(\"./Historical data/MSFT Historical Data.csv\")"
   ]
  },
  {
   "cell_type": "code",
   "execution_count": null,
   "metadata": {
    "collapsed": true
   },
   "outputs": [],
   "source": []
  }
 ],
 "metadata": {
  "kernelspec": {
   "display_name": "Python 3",
   "language": "python",
   "name": "python3"
  },
  "language_info": {
   "codemirror_mode": {
    "name": "ipython",
    "version": 3
   },
   "file_extension": ".py",
   "mimetype": "text/x-python",
   "name": "python",
   "nbconvert_exporter": "python",
   "pygments_lexer": "ipython3",
   "version": "3.6.3"
  }
 },
 "nbformat": 4,
 "nbformat_minor": 2
}
